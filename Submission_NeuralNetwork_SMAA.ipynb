{
 "cells": [
  {
   "cell_type": "code",
   "execution_count": 37,
   "metadata": {},
   "outputs": [],
   "source": [
    "import numpy as np\n",
    "import matplotlib.pyplot as plt\n",
    "\n",
    "# Activation function and its derivative\n",
    "#Sigmoid function\n",
    "def sigmoidal_function(value):\n",
    "    return 1/(1+np.exp(-value))\n",
    "\n",
    "#derivative of sigmoidal function\n",
    "def derivative_sf(value):\n",
    "    return np.exp(-value)/((1+np.exp(-value))**2)"
   ]
  },
  {
   "cell_type": "markdown",
   "metadata": {},
   "source": [
    "## Neural Network ALGORITHM:\n",
    "Initialise small random weights for the input weights, input biases, output weights, and output biases.\n",
    "\n",
    "Run the below two algorithms till the iterations stated.\n",
    "### 1.\tForward Pass Algorithm:\n",
    "Matrix multiplication between input data and input weights with input bias terms added.\n",
    "\n",
    "Activation function applied on each of the elements. Let's call this activations_h\n",
    "\n",
    "Matrix multiplication between activations_h and output weights with output bias terms added.\n",
    "\n",
    "On each element of it apply the activation function. Let's call this activations_o\n",
    "\n",
    "### 2.\tBackward Pass Algorithm:\n",
    "Apply derivative of the activation functions in each of the activation-applied matrices received from the FP Algo.\n",
    "\n",
    "Get the difference or the error between the activations_o and the actual output of the training data.\n",
    "\n",
    "Apply hadamard product between the the difference and the derivation at output node. Let's call this delta_o\n",
    "\n",
    "Now apply matrix multiplication between delta_o and transpose of the output weights\n",
    "\n",
    "Find delta_h by applying hadamard product between the resultant matrix in the line above and the derivative at hidden layer\n",
    "\n",
    "Set a learning rate\n",
    "\n",
    "Update the input weights and biases, and output weights and biases."
   ]
  },
  {
   "cell_type": "code",
   "execution_count": 38,
   "metadata": {},
   "outputs": [],
   "source": [
    "#Neural Network function\n",
    "#Takes in input matrix = i_matrix,\n",
    "#input weights=i_weights,\n",
    "#input bias=i_bias,\n",
    "#i_weights and i_bias is for the input to hidden layer\n",
    "#output weights=o_weights\n",
    "#output bias=o_bias\n",
    "#o_weights and o_bias is for hidden to output layer\n",
    "def NeuralNetworkFunction(i_matrix,i_weights,i_bias,o_weights,o_bias,actual_output,iterations):\n",
    "    for iterate in range(iterations):\n",
    "        #Forward-Propagation steps \n",
    "        #apply dot product between input matrix and weights add bias\n",
    "        #i_matrix.i_weights+i_bias\n",
    "        i_to_h=np.dot(i_matrix,i_weights)+i_bias\n",
    "        #add activation function to each element of i_to_h\n",
    "        activations_h=sigmoidal_function(i_to_h)\n",
    "        #apply dot product to activations_h and o_weights add bias\n",
    "        h_to_o=np.dot(activations_h,o_weights)+o_bias\n",
    "        #add activation function to each element of h_to_o\n",
    "        activations_o=sigmoidal_function(h_to_o)\n",
    "    \n",
    "    \n",
    "        #Back-Propagation steps \n",
    "        #derivatives at output\n",
    "        derivative_o=derivative_sf(activations_o)\n",
    "        #derivatives at hidden layer\n",
    "        derivative_h=derivative_sf(activations_h)\n",
    "        #difference between the actual output value and results from forward pass\n",
    "        diff=actual_output-activations_o\n",
    "        #delta output = diff *(scalar) derivatives at output\n",
    "        delta_o = diff * derivative_o\n",
    "        #hidden layer difference\n",
    "        diff_hidden=np.dot(delta_o,np.transpose(o_weights))\n",
    "        #delta hidden\n",
    "        delta_h=diff_hidden * derivative_h\n",
    "        #Updating changes after each iteration\n",
    "        #We take learning rate to be 0.1\n",
    "        alpha=0.1\n",
    "        #Updating input weights and biases\n",
    "        i_weights=i_weights+np.dot(np.transpose(i_matrix),delta_h)*alpha\n",
    "        i_bias=i_bias+np.sum(delta_h,axis=0) * alpha\n",
    "        #Updating output weights and biases\n",
    "        o_weights=o_weights+np.dot(np.transpose(activations_h),delta_o)*alpha\n",
    "        o_bias=o_bias+np.sum(delta_o,axis=0) * alpha\n",
    "    #Updating the global weights and biases\n",
    "    #with the one which would yield\n",
    "    #maximum accuracy\n",
    "    global input_weight_matrix\n",
    "    input_weight_matrix=i_weights\n",
    "    global input_bias_matrix\n",
    "    input_bias_matrix=i_bias\n",
    "    global output_weight_matrix\n",
    "    output_weight_matrix=o_weights\n",
    "    global output_bias_matrix\n",
    "    output_bias_matrix=o_bias\n",
    "    return activations_o\n",
    "        \n",
    "    "
   ]
  },
  {
   "cell_type": "code",
   "execution_count": 39,
   "metadata": {},
   "outputs": [
    {
     "name": "stdout",
     "output_type": "stream",
     "text": [
      "Input weights (Input to hidden):\n",
      "\n",
      "[[4.68895786e-03 9.22336416e-05 8.92227521e-03]\n",
      " [5.76187014e-03 5.65580106e-03 1.01676470e-05]]\n",
      "Input bias (bias at input to hidden):\n",
      "\n",
      "[[0.00276843 0.00785333 0.00096587]]\n",
      "Output weight (hidden to output):\n",
      "\n",
      "[[0.00333646]\n",
      " [0.00452083]\n",
      " [0.00060247]]\n",
      "Output bias (bias at hidden to output):\n",
      "\n",
      "[[0.00357114]]\n"
     ]
    }
   ],
   "source": [
    "#Initialize input matrix\n",
    "import pandas as pan\n",
    "#Loading the moon dataset\n",
    "moon_dataset = pan.read_csv('Put the path name')\n",
    "#Converting it into a DataFrame\n",
    "moon_dataset = pan.DataFrame(moon_dataset)\n",
    "#Taking a sample to be the training set\n",
    "moon_train = moon_dataset.sample(280, replace = False)\n",
    "#Rest to be the test data set\n",
    "moon_test = pan.concat([moon_dataset, moon_train, moon_train]).drop_duplicates(keep=False)\n",
    "\n",
    "\n",
    "# Creating an array of input dataset of moon\n",
    "moon_input_train = np.array(moon_train[['X0','X1']])\n",
    "moon_input_test = np.array(moon_test[['X0','X1']])\n",
    "\n",
    "\n",
    "# storing output\n",
    "moon_output_train = np.array(moon_train[['Class']])\n",
    "moon_output_test = np.array(moon_test[['Class']])\n",
    "\n",
    "#No. of columns\n",
    "features_length=len(moon_dataset.columns)-1\n",
    "#No. of nodes at hidden layer\n",
    "nodes_at_hidden_layer= 3\n",
    "#No. of nodes at output layer\n",
    "nodes_at_outer_layer= 1\n",
    "\n",
    "#Filling the following matrices with random values\n",
    "#Will be a (No. of features)x(Nodes at the hidden layer) matrix\n",
    "input_weight_matrix = np.random.rand(features_length,nodes_at_hidden_layer)*0.01\n",
    "#will be a 1x(Nodes at hidden layer) matrix\n",
    "input_bias_matrix = np.random.rand(1,nodes_at_hidden_layer)*0.01\n",
    "#This will be a (No. at hidden layer)x1 matrix\n",
    "output_weight_matrix = np.random.rand(nodes_at_hidden_layer,1)*0.01\n",
    "#1X(Nodes at outer layer) matrix\n",
    "output_bias_matrix = np.random.rand(1,nodes_at_outer_layer)*0.01\n",
    "\n",
    "print(\"Input weights (Input to hidden):\\n\")\n",
    "print(input_weight_matrix)\n",
    "print(\"Input bias (bias at input to hidden):\\n\")\n",
    "print(input_bias_matrix)\n",
    "print(\"Output weight (hidden to output):\\n\")\n",
    "print(output_weight_matrix)\n",
    "print(\"Output bias (bias at hidden to output):\\n\")\n",
    "print(output_bias_matrix)"
   ]
  },
  {
   "cell_type": "code",
   "execution_count": 40,
   "metadata": {},
   "outputs": [
    {
     "name": "stderr",
     "output_type": "stream",
     "text": [
      "c:\\users\\suchandra\\appdata\\local\\programs\\python\\python35\\lib\\site-packages\\ipykernel_launcher.py:8: RuntimeWarning: overflow encountered in exp\n",
      "  \n"
     ]
    }
   ],
   "source": [
    "#i_matrix,i_weights,i_bias,o_weights,o_bias,actual_output,iterations\n",
    "#Gets the result of the training data\n",
    "result_train = NeuralNetworkFunction(moon_input_train,input_weight_matrix,input_bias_matrix,output_weight_matrix,output_bias_matrix,moon_output_train,7000)\n"
   ]
  },
  {
   "cell_type": "markdown",
   "metadata": {},
   "source": [
    "## NeuralNetworkTest function\n",
    "This function uses just the single forward-propagation algorithm\n",
    "with the updated weights"
   ]
  },
  {
   "cell_type": "code",
   "execution_count": 41,
   "metadata": {},
   "outputs": [],
   "source": [
    "### The function NeuralNetworkTest which calculates the activations for the test_images in one pass\n",
    "def NeuralNetworkTest(i_matrix,i_weights,i_bias,o_weights,o_bias):\n",
    "    #apply dot product between input matrix and weights add bias\n",
    "    #i_matrix.i_weights+i_bias\n",
    "    i_to_h=np.dot(i_matrix,i_weights)+i_bias\n",
    "    #add activation function to each element of i_to_h\n",
    "    activations_h=sigmoidal_function(i_to_h)\n",
    "    #apply dot product to activations_h and o_weights add bias\n",
    "    h_to_o=np.dot(activations_h,o_weights)+o_bias\n",
    "    #add activation function to each element of h_to_o\n",
    "    activations_o=sigmoidal_function(h_to_o)\n",
    "    return activations_o\n"
   ]
  },
  {
   "cell_type": "markdown",
   "metadata": {},
   "source": [
    "## Classifier Function\n",
    "This function takes in a data and checks if it is > 0.5, if it is so,then classifies it as 1.0"
   ]
  },
  {
   "cell_type": "code",
   "execution_count": 42,
   "metadata": {},
   "outputs": [],
   "source": [
    "#Range above 0.5 is classified as 1.0\n",
    "def classifier(matrix_data):\n",
    "    for i in range(len(matrix_data[:,0])):\n",
    "        if(matrix_data[i]>=0.5):\n",
    "            matrix_data[i]=1.0\n",
    "        else:\n",
    "            matrix_data[i]=0.0\n",
    "    return matrix_data\n",
    "       "
   ]
  },
  {
   "cell_type": "markdown",
   "metadata": {},
   "source": [
    "The cell below prints the accuracy"
   ]
  },
  {
   "cell_type": "code",
   "execution_count": 43,
   "metadata": {},
   "outputs": [
    {
     "name": "stderr",
     "output_type": "stream",
     "text": [
      "c:\\users\\suchandra\\appdata\\local\\programs\\python\\python35\\lib\\site-packages\\ipykernel_launcher.py:8: RuntimeWarning: overflow encountered in exp\n",
      "  \n"
     ]
    },
    {
     "data": {
      "text/plain": [
       "0.9"
      ]
     },
     "execution_count": 43,
     "metadata": {},
     "output_type": "execute_result"
    }
   ],
   "source": [
    "#Testing the test data with the weights\n",
    "testing0 = NeuralNetworkTest(moon_input_test,input_weight_matrix,input_bias_matrix,output_weight_matrix,output_bias_matrix)\n",
    "testing0=classifier(testing0)\n",
    "count=0\n",
    "for i in range(len(moon_output_test[:,0])):\n",
    "    if((moon_output_test[i]/1.0)==testing0[i]):\n",
    "        count = count+1\n",
    "count/len(testing0[:,0])"
   ]
  },
  {
   "cell_type": "markdown",
   "metadata": {},
   "source": [
    "## MNIST DATA"
   ]
  },
  {
   "cell_type": "code",
   "execution_count": 44,
   "metadata": {},
   "outputs": [
    {
     "name": "stdout",
     "output_type": "stream",
     "text": [
      "Extracting MNIST_data\\train-images-idx3-ubyte.gz\n",
      "Extracting MNIST_data\\train-labels-idx1-ubyte.gz\n",
      "Extracting MNIST_data\\t10k-images-idx3-ubyte.gz\n",
      "Extracting MNIST_data\\t10k-labels-idx1-ubyte.gz\n"
     ]
    }
   ],
   "source": [
    "### For MNIST, we have used tensorflow to read the exmaples of train and test datasets\n",
    "# Using one hot encoder as 'False' will retain the digital value of the label instead of encoding it as binary\n",
    "from tensorflow.examples.tutorials.mnist import input_data\n",
    "mnist_data = input_data.read_data_sets('MNIST_data', one_hot=False)\n",
    "\n",
    "import numpy as np\n",
    "\n"
   ]
  },
  {
   "cell_type": "markdown",
   "metadata": {},
   "source": [
    "An example of the type of data being handle."
   ]
  },
  {
   "cell_type": "code",
   "execution_count": 45,
   "metadata": {},
   "outputs": [
    {
     "data": {
      "image/png": "[encoded data removed]",
      "text/plain": [
       "<matplotlib.figure.Figure at 0x28283a04cf8>"
      ]
     },
     "metadata": {},
     "output_type": "display_data"
    }
   ],
   "source": [
    "# To view the dataset's first digit using matplotlib library in python\n",
    "import matplotlib.pyplot as plot\n",
    "example = mnist_data.train.next_batch(1) # Taking a batch from train dataset in mnist\n",
    "view = example[0] \n",
    "view = view.reshape(28, 28) # reshaping the 784 columns as 28x28 image format to be plotted\n",
    "plot.gray() # plotting in gray plot\n",
    "plot.imshow(view)\n",
    "plot.show()"
   ]
  },
  {
   "cell_type": "code",
   "execution_count": 46,
   "metadata": {},
   "outputs": [],
   "source": [
    "# Train data images and labels\n",
    "train_images = mnist_data.train.images\n",
    "train_labels = mnist_data.train.labels\n",
    "\n",
    "# test data images and label\n",
    "test_images = mnist_data.test.images\n",
    "test_labels = mnist_data.test.labels"
   ]
  },
  {
   "cell_type": "markdown",
   "metadata": {},
   "source": [
    "## BINARY CLASSIFICATION\n",
    "Since we have to distinguish between 1 and 7. We make one of the inputs as 0 with this \n",
    "### makeZero function "
   ]
  },
  {
   "cell_type": "code",
   "execution_count": 47,
   "metadata": {},
   "outputs": [],
   "source": [
    "# A function called makeZero is defined below which will be used later to convert all train and test labels of 7 to 0 \n",
    "# for binary classification\n",
    "\n",
    "def makeZero(input):\n",
    "    for i in range(len(input)):\n",
    "        input[i]=0\n",
    "    return input"
   ]
  },
  {
   "cell_type": "markdown",
   "metadata": {},
   "source": [
    "Extraction of 1s and 7s from the dataset"
   ]
  },
  {
   "cell_type": "code",
   "execution_count": 48,
   "metadata": {},
   "outputs": [],
   "source": [
    "# Now we subset the 60k training examples to extract the 2 digits of interest. In our case, its 1 and 7\n",
    "## Getting training and test images for digits 1 and 7\n",
    "## sklearn utils has been used only to use shuffle function in order to shuffle the training and testing datasets\n",
    "# Since the datasets for training and testing are different, I have first extracted the indices from labels datasets for \n",
    "# both train and test and then used the indices to extract the images.\n",
    "from sklearn.utils import shuffle\n",
    "\n",
    "# extracts indices from train labels dataset where labels = 1\n",
    "one_index_train = np.where(train_labels == 1) \n",
    "seven_index_train = np.where(train_labels == 7)\n",
    "\n",
    "# extracts all the images at the indices obtained earlier for 1 and 7\n",
    "image_one_train = train_images[one_index_train] \n",
    "image_seven_train = train_images[seven_index_train]\n",
    "\n",
    "# extracts the labels for 1 and 7 \n",
    "one_train_labels = train_labels[train_labels == 1]  \n",
    "seven_train_labels = train_labels[train_labels == 7]\n",
    "\n",
    "# Now we use the previous makeZero function defined to make all 7 labels in train to 0\n",
    "seven_train_labels=makeZero(seven_train_labels)\n",
    "\n",
    "# Concatenating the training images and labels for 1 and 7 by rows\n",
    "train_images = np.concatenate((image_one_train,image_seven_train),axis=0)\n",
    "train_labels = np.concatenate((one_train_labels,seven_train_labels),axis=0)\n",
    "\n",
    "# Randomize data point by using shuffle to reorganize the images\n",
    "train_images, train_labels = shuffle(train_images, train_labels)\n",
    "\n",
    "\n",
    "# Repeating the above process for the test datasets. Since the other digit is already 1, no encoding is required.\n",
    "one_index_test = np.where(test_labels == 1)\n",
    "seven_index_test = np.where(test_labels == 7)\n",
    "\n",
    "image_one_test = test_images[one_index_test]\n",
    "image_seven_test = test_images[seven_index_test]\n",
    "\n",
    "one_test_labels = test_labels[test_labels == 1]\n",
    "seven_test_labels = test_labels[test_labels == 7]\n",
    "\n",
    "seven_test_labels=makeZero(seven_test_labels)\n",
    "\n",
    "test_images = np.concatenate((image_one_test,image_seven_test),axis=0)\n",
    "test_labels = np.concatenate((one_test_labels,seven_test_labels),axis=0)\n",
    "\n",
    "test_images, test_labels = shuffle(test_images, test_labels)\n"
   ]
  },
  {
   "cell_type": "markdown",
   "metadata": {},
   "source": [
    "Setting the number of nodes, weights, and biases"
   ]
  },
  {
   "cell_type": "code",
   "execution_count": 49,
   "metadata": {},
   "outputs": [
    {
     "name": "stdout",
     "output_type": "stream",
     "text": [
      "0\n"
     ]
    }
   ],
   "source": [
    "import pandas as pan\n",
    "import random as rand\n",
    "\n",
    "print(train_labels[0])\n",
    "\n",
    "# Reshaping the labels as a matrix of 11894 rows and 1 column which has the labels \n",
    "train_labels = train_labels.reshape(11894,1)\n",
    "\n",
    "# Initialising the variables\n",
    "features_length= 784 # features_length is number of columns\n",
    "nodes_at_hidden_layer= 3 # setting number of nodes we want in our hidden layer\n",
    "nodes_at_outer_layer= 1 # Single output node\n",
    "\n",
    "# Here, 0.01 is the learning rate 'alpha'\n",
    "input_weight_matrix = np.random.rand(features_length,nodes_at_hidden_layer)* 0.01\n",
    "input_bias_matrix = np.random.rand(1,nodes_at_hidden_layer)* 0.01\n",
    "output_weight_matrix = np.random.rand(nodes_at_hidden_layer,1)* 0.01\n",
    "output_bias_matrix = np.random.rand(1,nodes_at_outer_layer)* 0.01"
   ]
  },
  {
   "cell_type": "markdown",
   "metadata": {},
   "source": [
    "Training the mnist dataset (train)"
   ]
  },
  {
   "cell_type": "code",
   "execution_count": 50,
   "metadata": {},
   "outputs": [
    {
     "name": "stderr",
     "output_type": "stream",
     "text": [
      "c:\\users\\suchandra\\appdata\\local\\programs\\python\\python35\\lib\\site-packages\\ipykernel_launcher.py:8: RuntimeWarning: overflow encountered in exp\n",
      "  \n"
     ]
    },
    {
     "data": {
      "text/plain": [
       "142.0084843635559"
      ]
     },
     "execution_count": 50,
     "metadata": {},
     "output_type": "execute_result"
    }
   ],
   "source": [
    "# Training our neural network defined by giving the input variables required. Also using time to check the duration \n",
    "# for the algorithm to execute\n",
    "import time\n",
    "start = time.time()\n",
    "result_train = NeuralNetworkFunction(train_images,input_weight_matrix,input_bias_matrix,output_weight_matrix,output_bias_matrix,train_labels,1000)\n",
    "stop = time.time()\n",
    "duration = stop - start\n",
    "duration\n",
    "\n",
    "## For batch gradient descent the time taken is 142.01 s"
   ]
  },
  {
   "cell_type": "code",
   "execution_count": 51,
   "metadata": {},
   "outputs": [],
   "source": [
    "# Now we store the activations of result_train in a variable and if the confidence for an image by our learner is \n",
    "# greater than or equal to 0.5, its taken to be 1, else 0\n",
    "\n",
    "data_result = result_train\n",
    "\n",
    "data_result.dtype # checking the dtype of varible before looping over\n",
    "\n",
    "\n",
    " \n",
    "data_result=classifier(data_result)\n"
   ]
  },
  {
   "cell_type": "markdown",
   "metadata": {},
   "source": [
    "Checks the accuracy"
   ]
  },
  {
   "cell_type": "code",
   "execution_count": 52,
   "metadata": {},
   "outputs": [
    {
     "data": {
      "text/plain": [
       "99.52917437363377"
      ]
     },
     "execution_count": 52,
     "metadata": {},
     "output_type": "execute_result"
    }
   ],
   "source": [
    "# we define a function called accuracy which will be used to calculate our algorithm's accuracy rate in learning as well as\n",
    "# testing. we got 99.52% accuracy in training\n",
    "def accuracy(data_result, accurate):\n",
    "    count=0\n",
    "    for i in range(len(data_result[:,0])):\n",
    "        if(data_result[i] == accurate[i]/1.0):\n",
    "            count = count+1\n",
    "    return count/len(data_result[:,0]) * 100\n",
    "\n",
    "accuracy(data_result, train_labels)"
   ]
  },
  {
   "cell_type": "code",
   "execution_count": 53,
   "metadata": {},
   "outputs": [],
   "source": [
    "## testing mnist\n",
    "# Converting test_labels to a matrix with 2163 rows and 1 columns. These 2163 rows have test labels for only digits 1 and 7\n",
    "# encoded as 1 and 0 respectively using makeZero above\n",
    "test_labels = test_labels.reshape(2163,1)"
   ]
  },
  {
   "cell_type": "markdown",
   "metadata": {},
   "source": [
    "Using the trained weights to test on the test dataset"
   ]
  },
  {
   "cell_type": "code",
   "execution_count": 54,
   "metadata": {},
   "outputs": [
    {
     "name": "stderr",
     "output_type": "stream",
     "text": [
      "c:\\users\\suchandra\\appdata\\local\\programs\\python\\python35\\lib\\site-packages\\ipykernel_launcher.py:8: RuntimeWarning: overflow encountered in exp\n",
      "  \n"
     ]
    }
   ],
   "source": [
    "# test our neural network to return activations for the test set\n",
    "testingMNIST = NeuralNetworkTest(test_images,input_weight_matrix,input_bias_matrix,output_weight_matrix,output_bias_matrix)"
   ]
  },
  {
   "cell_type": "code",
   "execution_count": 55,
   "metadata": {},
   "outputs": [
    {
     "data": {
      "text/plain": [
       "99.30651872399446"
      ]
     },
     "execution_count": 55,
     "metadata": {},
     "output_type": "execute_result"
    }
   ],
   "source": [
    "# calling the classifier function again to convert the activations output\n",
    "testingMNIST = classifier(testingMNIST)\n",
    "\n",
    "# check accuracy for the test_labels\n",
    "# We got test accuracy of 99.31%\n",
    "accuracy(testingMNIST, test_labels)"
   ]
  },
  {
   "cell_type": "markdown",
   "metadata": {},
   "source": [
    "## PART 4 IMPLEMENTION \n",
    "### MiniBatchNN "
   ]
  },
  {
   "cell_type": "code",
   "execution_count": 56,
   "metadata": {},
   "outputs": [],
   "source": [
    "# Since in MNIST dataset, we have until now used batch gradient descent which gives us good results but takes an \n",
    "# immense time to execute; thereby, one enhancement is to use mini batch gradient descent.\n",
    "# Since the training set is 11894 rows, at first i have decided to take batches of 100 and last batch will have 94 data rows\n",
    "#119 iterations required\n",
    "\n",
    "# making a global variable error to store error in classification\n",
    "global error\n",
    "error = []\n",
    "def MiniBatchNN(input_matrix,input_weights,input_bias,output_weights,output_bias,actual_output):\n",
    "    \n",
    "    \n",
    "    # Starting with 10 overall iterations on whole dataset.\n",
    "    # I tried out 100 iterations as well but the accuracy improved by only 0.05% which didn't seem significant. Thus \n",
    "    # overall 10 iterations seem enough\n",
    "    for i in range(0, 10):\n",
    "        iterations = 19 # no of iterations required to go through entire dataset taking batches of 626 at a time\n",
    "        offset = 0 # offset variables\n",
    "        end = 626  # decides the limit of minibatch size\n",
    "        \n",
    "        for j in range(iterations):\n",
    "            train_input = train_images[offset:end] # defining the minibatch train input\n",
    "            train_out = train_labels[offset : end] # extracting the labels of minibatch size\n",
    "            \n",
    "            #apply dot product between input matrix and weights add bias i_matrix.i_weights+i_bias\n",
    "            i_to_h = np.dot(input_matrix,input_weights)+input_bias\n",
    "            \n",
    "            #add activation function to each element of i_to_h\n",
    "            activations_h = sigmoidal_function(i_to_h)\n",
    "            \n",
    "            #apply dot product to activations_h and o_weights add bias\n",
    "            h_to_o = np.dot(activations_h,output_weights)+output_bias\n",
    "            \n",
    "            #add activation function to each element of h_to_o\n",
    "            activations_o = sigmoidal_function(h_to_o)\n",
    "            #print(activations_o.shape)\n",
    "\n",
    "            #derivatives at output\n",
    "            derivative_o = derivative_sf(activations_o)\n",
    "            #print(derivative_o.shape)\n",
    "            \n",
    "            #derivatives at hidden layer\n",
    "            derivative_h = derivative_sf(activations_h)\n",
    "            #print(derivative_h.shape)\n",
    "            \n",
    "            #difference between the actual output value and results from forward pass\n",
    "            diff = actual_output-activations_o\n",
    "            #print(diff.shape)\n",
    "            #print(diff.shape)\n",
    "            \n",
    "            #delta output = diff *(scalar) derivatives at output\n",
    "            delta_o = diff * derivative_o\n",
    "            #print(delta_o.shape)\n",
    "            \n",
    "            #hidden layer difference\n",
    "            diff_hidden=np.dot(delta_o,np.transpose(output_weights))\n",
    "            \n",
    "            #delta hidden\n",
    "            delta_h=diff_hidden * derivative_h\n",
    "            \n",
    "            #Updating changes after each iteration\n",
    "            #We take learning rate to be 0.01\n",
    "            alpha=0.01\n",
    "            \n",
    "            #Updating input weights and biases\n",
    "            input_weights = input_weights+np.dot(np.transpose(input_matrix),delta_h)*alpha\n",
    "            input_bias = input_bias+np.sum(delta_h,axis=0) * alpha\n",
    "            \n",
    "            #Updating output weights and biases\n",
    "            output_weights=output_weights+np.dot(np.transpose(activations_h),delta_o)*alpha\n",
    "            output_bias=output_bias+np.sum(delta_o,axis=0) * alpha\n",
    "            offset = offset + 626\n",
    "            end = end + 626\n",
    "        error.append(sum(diff)/11894) # saving errors per iteration\n",
    "    \n",
    "    \n",
    "    # storing the below variables as global so as to be used later throughout the code\n",
    "    global input_weight_matrix\n",
    "    input_weight_matrix=input_weights\n",
    "    global input_bias_matrix\n",
    "    input_bias_matrix=input_bias\n",
    "    global output_weight_matrix\n",
    "    output_weight_matrix=output_weights\n",
    "    global output_bias_matrix\n",
    "    output_bias_matrix=output_bias\n",
    "    return activations_o\n",
    "\n",
    "\n",
    "# Reshaping train labels and setting the other input variables\n",
    "train_labels = train_labels.reshape(11894,1)\n",
    "\n",
    "\n",
    "features_length= 784\n",
    "nodes_at_hidden_layer= 3\n",
    "nodes_at_outer_layer= 1\n",
    "\n",
    "input_weight_matrix = np.random.rand(features_length,nodes_at_hidden_layer)*0.01\n",
    "input_bias_matrix = np.random.rand(1,nodes_at_hidden_layer)*0.01\n",
    "output_weight_matrix = np.random.rand(nodes_at_hidden_layer,1)*0.01\n",
    "output_bias_matrix = np.random.rand(1,nodes_at_outer_layer)*0.01 "
   ]
  },
  {
   "cell_type": "markdown",
   "metadata": {},
   "source": [
    "## Comparison of runtime duration "
   ]
  },
  {
   "cell_type": "code",
   "execution_count": 57,
   "metadata": {},
   "outputs": [
    {
     "name": "stderr",
     "output_type": "stream",
     "text": [
      "c:\\users\\suchandra\\appdata\\local\\programs\\python\\python35\\lib\\site-packages\\ipykernel_launcher.py:8: RuntimeWarning: overflow encountered in exp\n",
      "  \n"
     ]
    },
    {
     "name": "stdout",
     "output_type": "stream",
     "text": [
      "27.748470306396484\n"
     ]
    }
   ],
   "source": [
    "## To compare previous algorithm of batch gradient descent with minibatch gradient descent, we use time library\n",
    "# to time the execution and compare\n",
    "start = time.time()\n",
    "result_train = MiniBatchNN(train_images,input_weight_matrix,input_bias_matrix,output_weight_matrix,output_bias_matrix,train_labels)\n",
    "stop = time.time()   \n",
    "duration = stop-start\n",
    "print(duration)\n",
    "\n",
    "# Here the duration shows 27.75 s. \n",
    "## In the previous case, for batch gradient descent we saw that the time taken for execution was 143.25 secs. Hence, \n",
    "# mini gradient descent makes the training process close to 5 times faster with 1% difference in accuracy. Another point to\n",
    "# notice is it takes far lesser iterations for minibatch to converge to a close to optimal solution comapred to batch. \n",
    "# In batch gradient descent, we have 1000 iterations over the whole dataset, whereas in minibatch we had 10 iterations for \n",
    "# the whole batch and more sub iterations to learn from various batches that we divide the data into"
   ]
  },
  {
   "cell_type": "markdown",
   "metadata": {},
   "source": [
    "## Accuracy"
   ]
  },
  {
   "cell_type": "code",
   "execution_count": 58,
   "metadata": {},
   "outputs": [
    {
     "name": "stderr",
     "output_type": "stream",
     "text": [
      "c:\\users\\suchandra\\appdata\\local\\programs\\python\\python35\\lib\\site-packages\\ipykernel_launcher.py:8: RuntimeWarning: overflow encountered in exp\n",
      "  \n"
     ]
    },
    {
     "data": {
      "text/plain": [
       "98.6130374479889"
      ]
     },
     "execution_count": 58,
     "metadata": {},
     "output_type": "execute_result"
    }
   ],
   "source": [
    "# Converting activations to 0 and 1 based on confidence and checking accuracy for train dataset\n",
    "classifier(result_train)\n",
    "\n",
    "accuracy(result_train, train_labels)\n",
    "\n",
    "# We get 98.48% accuracy for train dataset\n",
    "\n",
    "# using the minibatch gradient algorithm to test accuracy on test dataset\n",
    "testingMNIST = NeuralNetworkTest(test_images,input_weight_matrix,input_bias_matrix,output_weight_matrix,output_bias_matrix)\n",
    "testingMNIST = classifier(testingMNIST)\n",
    "\n",
    "accuracy(testingMNIST, test_labels)\n",
    "# We get 98.61% accuracy in testing dataset"
   ]
  },
  {
   "cell_type": "code",
   "execution_count": 59,
   "metadata": {},
   "outputs": [],
   "source": [
    "len(error)\n",
    "\n",
    "p = pan.DataFrame(error, pan.Series(range(0,10)))\n"
   ]
  },
  {
   "cell_type": "code",
   "execution_count": 60,
   "metadata": {},
   "outputs": [
    {
     "data": {
      "image/png": "[encoded data removed]",
      "text/plain": [
       "<matplotlib.figure.Figure at 0x28282b90828>"
      ]
     },
     "metadata": {},
     "output_type": "display_data"
    }
   ],
   "source": [
    "import numpy as np\n",
    "import matplotlib.pyplot as plt\n",
    "\n",
    "y = p[0:]\n",
    "x = pan.Series(range(0,10))\n",
    "\n",
    "plt.scatter(x, y)\n",
    "plt.show()"
   ]
  },
  {
   "cell_type": "code",
   "execution_count": 61,
   "metadata": {},
   "outputs": [
    {
     "data": {
      "text/html": [
       "<div>\n",
       "<style scoped>\n",
       "    .dataframe tbody tr th:only-of-type {\n",
       "        vertical-align: middle;\n",
       "    }\n",
       "\n",
       "    .dataframe tbody tr th {\n",
       "        vertical-align: top;\n",
       "    }\n",
       "\n",
       "    .dataframe thead th {\n",
       "        text-align: right;\n",
       "    }\n",
       "</style>\n",
       "<table border=\"1\" class=\"dataframe\">\n",
       "  <thead>\n",
       "    <tr style=\"text-align: right;\">\n",
       "      <th></th>\n",
       "      <th>0</th>\n",
       "    </tr>\n",
       "  </thead>\n",
       "  <tbody>\n",
       "    <tr>\n",
       "      <th>1</th>\n",
       "      <td>-0.001671</td>\n",
       "    </tr>\n",
       "    <tr>\n",
       "      <th>2</th>\n",
       "      <td>-0.001257</td>\n",
       "    </tr>\n",
       "    <tr>\n",
       "      <th>3</th>\n",
       "      <td>-0.000868</td>\n",
       "    </tr>\n",
       "    <tr>\n",
       "      <th>4</th>\n",
       "      <td>-0.000012</td>\n",
       "    </tr>\n",
       "    <tr>\n",
       "      <th>5</th>\n",
       "      <td>-0.000168</td>\n",
       "    </tr>\n",
       "    <tr>\n",
       "      <th>6</th>\n",
       "      <td>-0.000195</td>\n",
       "    </tr>\n",
       "    <tr>\n",
       "      <th>7</th>\n",
       "      <td>-0.000109</td>\n",
       "    </tr>\n",
       "    <tr>\n",
       "      <th>8</th>\n",
       "      <td>-0.000145</td>\n",
       "    </tr>\n",
       "    <tr>\n",
       "      <th>9</th>\n",
       "      <td>-0.000063</td>\n",
       "    </tr>\n",
       "  </tbody>\n",
       "</table>\n",
       "</div>"
      ],
      "text/plain": [
       "          0\n",
       "1 -0.001671\n",
       "2 -0.001257\n",
       "3 -0.000868\n",
       "4 -0.000012\n",
       "5 -0.000168\n",
       "6 -0.000195\n",
       "7 -0.000109\n",
       "8 -0.000145\n",
       "9 -0.000063"
      ]
     },
     "execution_count": 61,
     "metadata": {},
     "output_type": "execute_result"
    }
   ],
   "source": [
    "p[1:]"
   ]
  },
  {
   "cell_type": "markdown",
   "metadata": {},
   "source": [
    "## Early Stop"
   ]
  },
  {
   "cell_type": "code",
   "execution_count": 86,
   "metadata": {},
   "outputs": [
    {
     "name": "stdout",
     "output_type": "stream",
     "text": [
      "Input weights (Input to hidden):\n",
      "\n",
      "[[0.0005477  0.00601693 0.00844977]\n",
      " [0.00361427 0.00569035 0.00680072]]\n",
      "Input bias (bias at input to hidden):\n",
      "\n",
      "[[0.00757086 0.0047338  0.00418174]]\n",
      "Output weight (hidden to output):\n",
      "\n",
      "[[0.00410232]\n",
      " [0.00396452]\n",
      " [0.00404439]]\n",
      "Output bias (bias at hidden to output):\n",
      "\n",
      "[[0.00349287]]\n"
     ]
    }
   ],
   "source": [
    "#This has been worked on with the moon dataset\n",
    "#Initialize input matrix\n",
    "\n",
    "import pandas as pan\n",
    "#Loading the moon dataset\n",
    "moon_dataset = pan.read_csv('C:/Users/Suchandra/Documents/SEM2/ADV ML and IR/ASSIGNMENTS ML/moons400.csv')\n",
    "#Converting it into a DataFrame\n",
    "moon_dataset = pan.DataFrame(moon_dataset)\n",
    "#Taking a sample to be the training set\n",
    "moon_train = moon_dataset.sample(280, replace = False)\n",
    "#Rest to be the test data set\n",
    "moon_test = pan.concat([moon_dataset, moon_train, moon_train]).drop_duplicates(keep=False)\n",
    "\n",
    "\n",
    "# Creating an array of input dataset of moon\n",
    "moon_input_train = np.array(moon_train[['X0','X1']])\n",
    "moon_input_test = np.array(moon_test[['X0','X1']])\n",
    "\n",
    "\n",
    "# storing output\n",
    "moon_output_train = np.array(moon_train[['Class']])\n",
    "moon_output_test = np.array(moon_test[['Class']])\n",
    "\n",
    "#No. of columns\n",
    "features_length=len(moon_dataset.columns)-1\n",
    "#No. of nodes at hidden layer\n",
    "nodes_at_hidden_layer= 3\n",
    "#No. of nodes at output layer\n",
    "nodes_at_outer_layer= 1\n",
    "\n",
    "#Filling the following matrices with random values\n",
    "#Will be a (No. of features)x(Nodes at the hidden layer) matrix\n",
    "input_weight_matrix = np.random.rand(features_length,nodes_at_hidden_layer)*0.01\n",
    "#will be a 1x(Nodes at hidden layer) matrix\n",
    "input_bias_matrix = np.random.rand(1,nodes_at_hidden_layer)*0.01\n",
    "#This will be a (No. at hidden layer)x1 matrix\n",
    "output_weight_matrix = np.random.rand(nodes_at_hidden_layer,1)*0.01\n",
    "#1X(Nodes at outer layer) matrix\n",
    "output_bias_matrix = np.random.rand(1,nodes_at_outer_layer)*0.01\n",
    "\n",
    "print(\"Input weights (Input to hidden):\\n\")\n",
    "print(input_weight_matrix)\n",
    "print(\"Input bias (bias at input to hidden):\\n\")\n",
    "print(input_bias_matrix)\n",
    "print(\"Output weight (hidden to output):\\n\")\n",
    "print(output_weight_matrix)\n",
    "print(\"Output bias (bias at hidden to output):\\n\")\n",
    "print(output_bias_matrix)"
   ]
  },
  {
   "cell_type": "markdown",
   "metadata": {},
   "source": [
    "## accuracyMeasure function\n",
    "In the below cell, we implement an early stop algorithm\n",
    "Where a limit to the no. of iterations is set (here, it is 2000)\n",
    "After each iteration accuracy is calculated\n",
    "If the accuracy is greater than the maximum stored accuracy in the list\n",
    "The algorithm continues\n",
    "else it stops\n",
    "At last the final weights with the maximum accuracy is stored. "
   ]
  },
  {
   "cell_type": "code",
   "execution_count": 87,
   "metadata": {},
   "outputs": [
    {
     "name": "stdout",
     "output_type": "stream",
     "text": [
      "100 0.8642857142857143\n",
      "110 0.8642857142857143\n",
      "120 0.8785714285714286\n",
      "130 0.8785714285714286\n",
      "140 0.8785714285714286\n",
      "input_weight_matrix:\n",
      " [[ -7.89652947 -11.38848143 -13.82670996]\n",
      " [ 27.06893126  37.65549957  44.65963333]]\n",
      "input_bias_matrix:\n",
      " [[-1.55613565 -1.21317764 -1.05312838]]\n",
      "output_weight_matrix:\n",
      " [[-0.73226729]\n",
      " [-1.45338655]\n",
      " [-1.94323667]]\n",
      "input_bias_matrix:\n",
      " [[2.08486331]]\n"
     ]
    }
   ],
   "source": [
    "#Here, we implement an early stop algorithm\n",
    "#Where a limit to the no. of iterations is set (here, it is 2000)\n",
    "#After each iteration accuracy is calculated\n",
    "#If the accuracy is greater than the maximum stored accuracy in the list\n",
    "#The algorithm continues\n",
    "#else it stops\n",
    "#At last the final weights with the maximum accuracy is stored  \n",
    "\n",
    "moon_output_train=moon_output_train/1.0\n",
    "#We have an empty accuracy list storing the accuracies. \n",
    "standardAccuracy=[]\n",
    "#Initialise the list\n",
    "standardAccuracy.append(0.0)\n",
    "def accuracyMeasure():\n",
    "    #Initial start of iterations\n",
    "    iterations=100\n",
    "    #Initialise accuracy to be 0.0\n",
    "    accuracy=0.0\n",
    "    while(iterations<=2000):\n",
    "        #This returns the weights and biases \n",
    "        WeightsNN=input_weight_matrix,input_bias_matrix,output_weight_matrix,output_bias_matrix\n",
    "        #Trains the neural net\n",
    "        result_train = NeuralNetworkFunction(moon_input_train,input_weight_matrix,input_bias_matrix,output_weight_matrix,output_bias_matrix,moon_output_train,iterations)\n",
    "        #Changes the output result\n",
    "        def classifier(matrix_data):\n",
    "            for i in range(len(matrix_data[:,0])):\n",
    "                if(matrix_data[i]>=0.5):\n",
    "                    matrix_data[i]=1\n",
    "                else:\n",
    "                    matrix_data[i]=0\n",
    "            return matrix_data\n",
    "        #Invoking the classifier function\n",
    "        result_train=classifier(result_train)\n",
    "        #Initialising count variable to zero\n",
    "        count=0\n",
    "        for i in range(len(moon_output_train[:,0])):\n",
    "            #compares the y to ycap, i.e if \n",
    "            #the predicted score matches\n",
    "            #actual score, count is increased by 1\n",
    "            if(moon_output_train[i]==result_train[i]):\n",
    "                count = count+1\n",
    "        #checks the accuracy\n",
    "        accuracy=count/len(result_train[:,0])\n",
    "        global standardAccuracy\n",
    "        #if the current accuracy is greater than the one in the list\n",
    "        #iterations are increased by 10\n",
    "        #the new accuracy is added to the standardAccuracy list\n",
    "        if(accuracy>=max(standardAccuracy)):\n",
    "            print(iterations,accuracy)\n",
    "            iterations=iterations+10\n",
    "            standardAccuracy.append(accuracy)\n",
    "        else:\n",
    "            #else iterations is set to more than max\n",
    "            #to terminate the function\n",
    "            iterations=2001\n",
    "    #returns the weights\n",
    "    #WeightsNN[0] for input_weight_matrix\n",
    "    #WeightsNN[1] for input_bias_matrix\n",
    "    #WeightsNN[2] for output_weight_matrix\n",
    "    #WeightsNN[3] for output_bias_matrix\n",
    "    return WeightsNN\n",
    "\n",
    "AM=accuracyMeasure()\n",
    "print(\"input_weight_matrix:\\n\",AM[0])\n",
    "print(\"input_bias_matrix:\\n\",AM[1])\n",
    "print(\"output_weight_matrix:\\n\",AM[2])\n",
    "print(\"input_bias_matrix:\\n\",AM[3])\n"
   ]
  },
  {
   "cell_type": "markdown",
   "metadata": {},
   "source": [
    "## Graph showing the accuracy vs. Iterations"
   ]
  },
  {
   "cell_type": "code",
   "execution_count": 88,
   "metadata": {},
   "outputs": [
    {
     "data": {
      "image/png": "[encoded data removed]",
      "text/plain": [
       "<matplotlib.figure.Figure at 0x28284199630>"
      ]
     },
     "metadata": {},
     "output_type": "display_data"
    }
   ],
   "source": [
    "#This plots the accuracy by iterations graph\n",
    "import matplotlib.pyplot as plt\n",
    "\n",
    "\n",
    "y = standardAccuracy\n",
    "x = pan.Series(range(0,len(standardAccuracy)))\n",
    "\n",
    "plt.plot((x+10)*10, y)\n",
    "plt.ylabel(\"Accuracy\")\n",
    "plt.xlabel(\"Iterations\")\n",
    "plt.show()"
   ]
  },
  {
   "cell_type": "code",
   "execution_count": 89,
   "metadata": {},
   "outputs": [],
   "source": [
    "#Testing the test data with the weights\n",
    "testing = NeuralNetworkTest(moon_input_test,AM[0],AM[1],AM[2],AM[3])"
   ]
  },
  {
   "cell_type": "code",
   "execution_count": 90,
   "metadata": {},
   "outputs": [
    {
     "name": "stdout",
     "output_type": "stream",
     "text": [
      "[[1.]\n",
      " [0.]\n",
      " [1.]\n",
      " [1.]\n",
      " [1.]\n",
      " [1.]\n",
      " [0.]\n",
      " [0.]\n",
      " [1.]\n",
      " [1.]\n",
      " [0.]\n",
      " [0.]\n",
      " [1.]\n",
      " [1.]\n",
      " [0.]\n",
      " [1.]\n",
      " [1.]\n",
      " [1.]\n",
      " [1.]\n",
      " [0.]\n",
      " [1.]\n",
      " [1.]\n",
      " [0.]\n",
      " [1.]\n",
      " [0.]\n",
      " [0.]\n",
      " [1.]\n",
      " [0.]\n",
      " [0.]\n",
      " [1.]\n",
      " [0.]\n",
      " [1.]\n",
      " [0.]\n",
      " [0.]\n",
      " [1.]\n",
      " [1.]\n",
      " [0.]\n",
      " [1.]\n",
      " [0.]\n",
      " [0.]\n",
      " [1.]\n",
      " [1.]\n",
      " [1.]\n",
      " [1.]\n",
      " [0.]\n",
      " [0.]\n",
      " [0.]\n",
      " [0.]\n",
      " [0.]\n",
      " [1.]\n",
      " [1.]\n",
      " [1.]\n",
      " [0.]\n",
      " [1.]\n",
      " [0.]\n",
      " [0.]\n",
      " [1.]\n",
      " [0.]\n",
      " [1.]\n",
      " [1.]\n",
      " [1.]\n",
      " [0.]\n",
      " [1.]\n",
      " [0.]\n",
      " [0.]\n",
      " [0.]\n",
      " [1.]\n",
      " [1.]\n",
      " [0.]\n",
      " [1.]\n",
      " [1.]\n",
      " [0.]\n",
      " [1.]\n",
      " [1.]\n",
      " [0.]\n",
      " [0.]\n",
      " [0.]\n",
      " [1.]\n",
      " [0.]\n",
      " [0.]\n",
      " [0.]\n",
      " [0.]\n",
      " [0.]\n",
      " [1.]\n",
      " [1.]\n",
      " [1.]\n",
      " [1.]\n",
      " [0.]\n",
      " [1.]\n",
      " [1.]\n",
      " [0.]\n",
      " [1.]\n",
      " [1.]\n",
      " [1.]\n",
      " [0.]\n",
      " [0.]\n",
      " [1.]\n",
      " [0.]\n",
      " [1.]\n",
      " [1.]\n",
      " [0.]\n",
      " [0.]\n",
      " [1.]\n",
      " [1.]\n",
      " [0.]\n",
      " [1.]\n",
      " [0.]\n",
      " [1.]\n",
      " [0.]\n",
      " [0.]\n",
      " [0.]\n",
      " [0.]\n",
      " [1.]\n",
      " [0.]\n",
      " [0.]\n",
      " [0.]\n",
      " [0.]\n",
      " [1.]\n",
      " [1.]\n",
      " [0.]]\n"
     ]
    }
   ],
   "source": [
    "testing=classifier(testing)\n",
    "print(testing)"
   ]
  },
  {
   "cell_type": "markdown",
   "metadata": {},
   "source": [
    "## Accuracy after the enhancement\n",
    "This function (accuracyMeasure) enables the Neural network to reach a good accuracy in less number of iterations."
   ]
  },
  {
   "cell_type": "code",
   "execution_count": 91,
   "metadata": {},
   "outputs": [
    {
     "data": {
      "text/plain": [
       "0.8833333333333333"
      ]
     },
     "execution_count": 91,
     "metadata": {},
     "output_type": "execute_result"
    }
   ],
   "source": [
    "#Compares the accuracy; if the output by Neural network matches the actual output \n",
    "#count is increased by 1\n",
    "\n",
    "count=0\n",
    "for i in range(len(moon_output_test[:,0])):\n",
    "    if((moon_output_test[i]/1.0)==testing[i]):\n",
    "        count = count+1\n",
    "count/len(testing[:,0])"
   ]
  },
  {
   "cell_type": "markdown",
   "metadata": {},
   "source": [
    "### References\n",
    "##### 1. Andrew Ng Lectures"
   ]
  }
 ],
 "metadata": {
  "kernelspec": {
   "display_name": "Python 3",
   "language": "python",
   "name": "python3"
  },
  "language_info": {
   "codemirror_mode": {
    "name": "ipython",
    "version": 3
   },
   "file_extension": ".py",
   "mimetype": "text/x-python",
   "name": "python",
   "nbconvert_exporter": "python",
   "pygments_lexer": "ipython3",
   "version": "3.5.4"
  }
 },
 "nbformat": 4,
 "nbformat_minor": 2
}
